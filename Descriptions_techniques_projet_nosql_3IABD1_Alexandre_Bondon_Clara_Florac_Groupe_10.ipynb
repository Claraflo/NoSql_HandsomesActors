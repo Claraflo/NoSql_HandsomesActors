{
 "cells": [
  {
   "cell_type": "markdown",
   "metadata": {},
   "source": [
    "## Document technique \n",
    "\n",
    "\n",
    "**Sujet** : Le but est de récupérer sur le site IMDB un top d'acteurs(trices) pour en analyser leurs filmographies.\n",
    "\n",
    "1. Scrapping\n",
    "\n",
    "*Premièrement*, le script **scrapTopActors.py** doit être lancé pour recupérer les noms des acteurs dans le fichier texte **listeNomsActeurs.txt**. Ces deux fichiers se trouve à la racine du projet.\n",
    "\n",
    "Les libs de scraping et traitement html utilisées dans ce fichier sont\n",
    "**requests** et **beautifulsoup**. L'url de la page à scrapper est à écrire dans le fichier au niveau de la variable url. \n",
    "\n",
    "Sortie : fichier text listeNomsActeurs.txt"
   ]
  },
  {
   "cell_type": "code",
   "execution_count": null,
   "metadata": {},
   "outputs": [],
   "source": [
    "!python scrapTopActors.py"
   ]
  },
  {
   "cell_type": "markdown",
   "metadata": {},
   "source": [
    "\n",
    "*Deuxiemement*, le scrip **scrapFilmsOfEachActor.py** doit être lancé. \n",
    "Ce script permet de recupérer la filmographie de chaque acteur du top. Ce fichier se trouve à la racine du projet.\n",
    "\n",
    "Ce script suit la logique suivante :\n",
    "1. Récupération des noms d'acteur dans le fichier **listeNomsActeurs.txt** \n",
    "2. Recherche via **selenium** du nom de l'acteur + mot clé IMDB.\n",
    "3. Scanne les 5 premiers liens retournés pour trouver la page IMDB de l'acteur.\n",
    "4. Une fois sur la page IMDB de l'acteur, scrapping de la liste des films dans lesquels il a joué.\n",
    "5. Enregistrement dans le dossier **filmographie** de la liste des films récupérés avec leur titre et leur année de sortie.\n",
    "6. La photo de l'acteur est également récupérée grace à la lib urllib.\n",
    "\n",
    "Libs utilisée : **Selenium** , **beautifulsoup** , **urllib**\n",
    "Sortie : dossier fimlographie\n"
   ]
  },
  {
   "cell_type": "code",
   "execution_count": null,
   "metadata": {},
   "outputs": [],
   "source": [
    "!python scrapFilmsOfEachActor.py"
   ]
  },
  {
   "cell_type": "markdown",
   "metadata": {},
   "source": [
    "\n",
    "*Troisiemement*, le scrip **lancementSpider.py** doit être lancé. \n",
    "Ce script permet de recupérer l'ensemble des informations [title,year,genre,runtime,director,casting,score,country,budget,benefice]  de chaque film. Ce fichier se trouve dans le **dossier actor**, au niveau du fichier scrapy.cfg. Le fichier **resultats** contient les données finales. \n",
    "\n",
    "Un **projet scrapy** a été utilisé pour cette dernière partie du scraping dans le but d'optimiser le temps de scrapping de l'ensemble des pages des films. Un premier netoyage de données est effectué ici.\n",
    "\n",
    "Libs et technologies utilisés :  **scrapy**,**beautifulsoup**,**requests**\n",
    "Sortie : dossier resultats"
   ]
  },
  {
   "cell_type": "code",
   "execution_count": null,
   "metadata": {},
   "outputs": [],
   "source": [
    "!python actor/lancementSpider.py"
   ]
  },
  {
   "cell_type": "markdown",
   "metadata": {},
   "source": [
    "\n",
    "2. MongoDb et pyMongo\n",
    "\n",
    "Bonus : utilisation du client Mongo dans docker (fourni dans le cours)\n",
    "\n",
    "Pour cette partie nous avons écris un script python **mongoInsert.py** qui se connect au client Mongo (port 27017) installé dans l'image dataengineertools. \n",
    "\n",
    "Ce script créer la db *projectActors* et la collection *movie* :\n",
    "\n",
    "client = MongoClient('127.0.0.1:27017')\n",
    "db = client['projectActors']\n",
    "col = db['movies']\n",
    "\n",
    "Puis il parcourt les fichiers contenant les données des films pour les inserer dans la collection.\n",
    "\n",
    "liste des clés : title,year,genre,runtime,director,casting,\n",
    "score,country,budget,benefice."
   ]
  },
  {
   "cell_type": "code",
   "execution_count": null,
   "metadata": {},
   "outputs": [],
   "source": [
    "!python mongoInsert.py"
   ]
  },
  {
   "cell_type": "markdown",
   "metadata": {},
   "source": []
  }
 ],
 "metadata": {
  "kernelspec": {
   "display_name": "Python 3",
   "language": "python",
   "name": "python3"
  },
  "language_info": {
   "codemirror_mode": {
    "name": "ipython",
    "version": 3
   },
   "file_extension": ".py",
   "mimetype": "text/x-python",
   "name": "python",
   "nbconvert_exporter": "python",
   "pygments_lexer": "ipython3",
   "version": "3.7.4"
  }
 },
 "nbformat": 4,
 "nbformat_minor": 2
}
