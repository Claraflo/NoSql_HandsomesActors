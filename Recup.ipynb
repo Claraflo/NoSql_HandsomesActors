{
 "cells": [
  {
   "cell_type": "code",
   "execution_count": 1,
   "id": "indoor-reliance",
   "metadata": {},
   "outputs": [
    {
     "name": "stdout",
     "output_type": "stream",
     "text": [
      "Requirement already satisfied: pymongo in /Library/Frameworks/Python.framework/Versions/3.8/lib/python3.8/site-packages (3.11.3)\r\n"
     ]
    }
   ],
   "source": [
    "https://www.imdb.com/list/ls062161771/https://www.imdb.com/list/ls062161771/https://www.imdb.com/list/ls062161771/split_string = a_string.split(\"-\", 1)\n",
    "!pip install pymongo"
   ]
  },
  {
   "cell_type": "code",
   "execution_count": 2,
   "id": "signed-fight",
   "metadata": {},
   "outputs": [],
   "source": [
    "from pymongo import MongoClient\n",
    "myclient = MongoClient(\"mongodb://localhost:27017/\")\n",
    "mydb = myclient[\"database\"]"
   ]
  },
  {
   "cell_type": "code",
   "execution_count": null,
   "id": "creative-purple",
   "metadata": {},
   "outputs": [],
   "source": []
  },
  {
   "cell_type": "code",
   "execution_count": 14,
   "id": "exceptional-tuning",
   "metadata": {
    "scrolled": true
   },
   "outputs": [
    {
     "name": "stdout",
     "output_type": "stream",
     "text": [
      "Donne moi l'url de la liste: https://www.imdb.com/list/ls062161771/\n",
      "Robert De Niro,Edgar Ramírez\n",
      "Chloë Grace Moretz,Robert De Niro,Miles Teller\n",
      "Robert De Niro,Cate Blanchett,Anne Hathaway,Oscar Isaac,Donald Sutherland\n",
      "Leonardo DiCaprio,Robert De Niro,Jesse Plemons,Tantoo Cardinal,Louis Cancelmi,Pat Healy,Lily Gladstone,Sturgill Simpson,Gary Basaraba,Jason Isbell,Tatanka Means,Cara Jade Myers,William Belleau,Scott Shepherd,Michael Abbott Jr.,Janae Collins,Jillian Dion\n",
      "Anya Taylor-Joy,Margot Robbie,Christian Bale,Zoe Saldana,Robert De Niro,Andrea Riseborough,Rami Malek,Timothy Olyphant,Michael Shannon,John David Washington,Mike Myers,Matthias Schoenaerts,Chris Rock,Leland Orser,Alessandro Nivola,Bonnie Hellman,Vaughn Page,Christopher Kager,Mel Fair,John Pirkis,Shedell Zurak,Steven Hack,Jarrett Johnson,Konstantinos Lachanas,André Tardieu,Susan Gray,Timothy Donovan,Taylor Maimbourg\n",
      "Robert De Niro,Jack Huston,John Malkovich,Dale Dickey,Willa Fitzgerald,Lindsay Pulsipher,Swen Temmel,Tierney Smith,Quavo,J. Oscar Simmons,Sean Kael Williams,Lauren Johnson,Max Walls,Macy Kyla Weathersby\n",
      "Robert De Niro,Tommy Lee Jones,Morgan Freeman,Zach Braff,Emile Hirsch,Sheryl Lee Ralph,Kate Katzman,Eddie Griffin,Chris Mullinax,Patrick Muldoon,Julie Lott,Blerim Destani,Vincent Spano,Paul Witten,Aighleann McKiernan,Melissa Greenspan,Joel Michaely,Jermaine Washington,Desiree Geraldine,Morse Bicknell,Michael Davis,Robert Benedetti,Danno Hanks,Ray Bouderau,Dylan Flashner,Leroy Morgan,Garrison Cahill Griffith,Malcolm Barrett,Frances Lee McCain,Bill Luckett,Jake Hunter,Chelsea Newman,Dobromir Mashukov,Kyron Bonner,Christina Ann Sweney,Leslie Stratton,Michelle Maylene,Natalie Burn,Josefine Lindegaard,Kiersten Dolbec,Ekaterina Baker,Emily Casazza,Nick Vallelonga,Frank Renzulli,Dale Oprandy,Vito Di Donato,David E. Ornston,Santiago Romero,Alexander Alayon,Bob Knowlton,Stephen Krahel,James LaPrelle,Fernando Lara,Erik Sahlein,J. Nathan Simmons,Leonard Waldner\n",
      "Diane Keaton,Kieran Culkin,Kimberly Williams-Paisley,Florence Pugh,Ben Platt,Steve Martin,George Newbern,Alexandra Shipp,Robert De Niro,Martin Short,Reese Witherspoon\n",
      "Robert De Niro,Uma Thurman,Rob Riggle,Oakes Fegley,Laura Marano,Cheech Marin,Jane Seymour,Christopher Walken,Juliocesar Chavez,Isaac Kragten,T.J. McGibbon,Poppy Gagnon,Lydia Styslinger,Joe Gelchion,Colin Ford,Faizon Love,Rutanya Alda,Drew Scheid,Betsy Landin,Veronica Alicino,Owen D. Stone,James Martin Kelly,Leon Lamar,Joe Foley,Loren Dennis,Cameron Worthen,Jeremy Childs,Joshua Childs,Clayton English,Suehyla El-Attar,Joanie Stewart,Ted Huckabee,Evan Weisman,Saundra Dunson-Franks,Larry Rippenkroeger,Aidan FitzGerald,Heather Johansen,Debi Kimsey,Kendrick Cross,Rudolf Weber,Eddie Fiola,Kyah Barcourt,Jasmine Bolton,Tony Bradley,Fatima Garba,Hannah Grayce,Thomas Mark Higgins,Gage Lawson,Alyssa AnnMarie Marquez,Daniel Martinez,Jaydin McCollum,John Merical,Hannah Powell,Jordan Price,Isaac Tillman\n",
      "Robert De Niro,Al Pacino,Joe Pesci,Harvey Keitel,Ray Romano,Bobby Cannavale,Anna Paquin,Stephen Graham,Stephanie Kurtzuba,Jack Huston,Kathrine Narducci,Jesse Plemons,Domenick Lombardozzi,Paul Herman,Gary Basaraba,Marin Ireland,Lucy Gallina,Jonathan Morris,Dascha Polanco,Welker White,Louis Cancelmi,Bo Dietl,Sebastian Maniscalco,Aleksa Palladino,Steven Van Zandt,Jim Norton,Daniel Jenkins,Billy Smith,Kevin O'Rourke,Action Bronson,Glenn Cunningham,Paul Ben-Victor,Patrick Gallo,James Martin,Jake Hoffman,Barry Primus,Danny A. Abeckaser,Anthony J. Gallo,J.C. MacKenzie,Joseph Bono,Larry Romano,Louis Vanaria,Craig Vincent,John Polce,Joseph Riccobene,Vinny Vella,Thomas E. Sullivan,John Cenatiempo,Robert Mladinich,Rich Reilly,Robert Funaro,Tess Price,Jennifer Mudge,India Ennenga,Jordyn DiNatale,Kate Arrington,John Bernard Martin,Philip Suriano,Tony Suriano,Jason Iannacone,Michael C. Brennan,James P. Harkins,Al Linea,Garry Pastore,Frank Pietrangolare,Frank Aquilino,John T. Sollitto,Patrick Murney,Samantha Soule,Richard V. Licata,Vito Picone,Larry Mazza,Craig DiFrancia,Ira Drukier,Jon Bruno,Paul Borghese,Steven Maglio,James Licata,Veronica Alicino,Mike Massimino,James Ciccone,Ron Castellano,Marco Greco,Meghan Rafferty,Aldo Sergi,James Lorinz,Jeffrey Paul,Robert C. Kirk,Vince Maritato,Lawrence Smith,Rebecca Faulkenberry,Ken Wulf Clark,John Rue,Steve Routman,Fernando Vera,Peter Claymore,Charles DelGatto,Michael Gongora,Eugene Bunge,Matthew F. O'Connor,Cliff Moylan,Vincenzo DelRiccio,Steve Beauchamp,Alfred Sauchelli Jr.,Joe Giorgio,Diana Agostini,Lauren Aparicio,Kelley Rae O'Donnell,John Garrett Greer,Jack Caruso,John Scurti,Tom Tj Jenkins,Steve Witting,Luke Smith,Brent Langdon,James D. Forsha,Giacomino J. Matra,Paul Pearlman,Frank L. Messina,Cilda Shaur,Dominick LaRuffa Jr.,Erick Zamora,Steven Maglio,Joe Caniano,Lou Martini Jr.,Michael Bottari,John Bianco,Margaret Anne Florence,Siena Marino,Lori Arkin,Nicholas Chrysan,Samantha Coppola,Logan Crawford,Jeff DeHart,Mark Fairchild,Blaise Corrigan,Jill Brown,Tim Neff,Matt Walton,Peter Jay Fernandez,Stephen Mailer,Gino Cafarelli,Robin Kerbis,Lucia Giannetta,Michael Romeo Ruocco,Amanda Kloots,Anne Horak,Brittany Bigelow,Vanessa Mitchell,Madison Eastman,Purdie Baumann,Jesse Wildman,Nina Lafarga,Neil Posner,Michael Leviton,Bridget Barkan,Andrea Weinzierl,Richard V. Pagano,Nicholas Wight,Clark Carmichael,Joseph Russo,Jeremy Luke,Barbara Eyland,Tracy J. Everitt,Saint Marino,Mario Corry,Johnny Potenza,Joe Passaro,Patrick Borriello,Alfred Nittoli,David Aaron Baker,Stanley Burns,Bill Timoney,Thomas Joseph McDonald,Virl Andrick,Ernest Sanders,Bill McHugh,Kevin Kane,Amelia Brain,Craig Castaldo,Norman Aaronson,Martin Abrahams,Jayden Abrams,Harry Adam,Frank Amoruso,Federico Andrade,Chris Angerman,CJ Annunziata,John Antorino,Anthony Aquilino,Anthony Arcure,Sal Ardisi,Robert Arensen,Marshall Axt,Stefanie Barbato,John V. Barbieri,Sidnei Barboza,Lou Barletta,Dannah Basgall,Joe Basile,Reginald Baskerville,Tommy Bayiokos,Thomas Bencivenga,Keith Betts,Joseph K. Bevilacqua,Richard Bird,Peter Biscontini,Frank Bliss,Rick Bolander,Matteo Borgomanero,David Boston,Ralph Bracco,Theresa Brancato,Roger Brenner,Marko Caka,Johnny Calabro,David Francis Calderazzo,Michele Cannon,Emilie Cantante,Al Cardone,Patrick Carone,Kenneth Carrella,Dj Nino Carta,John Cashin,Fidel Castro,Giovanni Celentano,Liz Celeste,James Cesa,Israel Chaplin,Julie Chateauvert,Dean Ciallella,John Cimillo,Joseph Ciminera,Gregory Cioffi,Stacey Alyse Cohen,Sean Collins,Jim Coniglione,Charlie Conn,Richard R. Corapi,Vincent Cucuzza,Michael Cullum,Mick Cunningham,Anthony Edward Curry,Catherine Czaja,Gino D'Cafango,Erin Dahl,Carole DellAquila,Jack Delyra,Diane DeSalvo-Beebe,Lee DiFilippo,Samuel Difiore,Mike DiGiacinto,Scottie DiGiacomo,Dante DiGiorgio,John DiGiorgio,Jerry DiLeo,Ernest DiLullo Sr.,Dom DiMercurio,Michael DiMonte,Salvatore DiSanto,Tommy Dodd,Gino Domenico,Jewel Donohue,Scott Eliasoph,Robert Eric,Daniel Evangelista,Phil Faicco,Danitra Faithe,Mark Falvo,Doug Ferony,Kat Michelle Files,Frenchi Firecracker,Brooke Flaherty,Patrick H. Fox,Robert J. Fox,Dav Freedman,Mark C. Fullhardt,Mark A. Gamma,Ineke Garbacz,Steve Garfanti,Alan Gates,Christopher G Gates,Sholom Gelt,Rich Gentilcore,Frank Gigante,Christy 'Unpazzo' Giglio,Brian Gildea,George R. Golden,Albert Gomez,George Goulart,Kathryn Grace,Michael Grandinetti,Michael Wren Gucciardo,Ron Guercio,Darryl Reuben Hall,Paige Hamdi,Steve Heinz,Joshua Daniel Hershfield,Toree Hill,Arthur Hiou,Jacqueline Honulik,Matthew Iacono,Michael Iacono,Ciarcia John,Andrew Kady,Serhat Kaner,George Katt,Jennifer Keane,Kennan Keating,Ren Kelly,Jacqueline Kennedy,John F. Kennedy,Albert Kobrovsky,Melody Krell,Paul Kulis,Jarrod LaBine,Billy Lake,Claudette Lalí,Michael Lanuto,Zeke Ledesma,Zachary Leipert,Gina Lerario,Anthony Linzalone,Frank Lisi,Jerry Lobrow,Rob Louis,RJ Lucci,Ann Lucente,Ronald Scott Maestri,Michael Maffucci,Ronnie Magri,Victoria Mahal-Sky,Dennis Mallen,Dominick Mancino,Aly Mang,Scott Manginelli,Michael Mariano,Allie Marshall,Rich Masotti,Randy Masters,Jamie Mattus,Michael Maugeri,Gage Maynard,Soren Aleksi Mazurek,Laura Mazziotti,Doris McCarthy,Kerry McGann,Kevin D. McGee,Michael A McGrath,Tommy McInnis,Gary McNerney,Rebecca Merle,John Merolla,Carol Ann Meyer,Frances Mignano,John Mingione,Sheryl Minikes,Danny Minnick,Daniel Mintz,John Mitchell,Frank Modica,Mark Montalbano,Jeff Moore,Michael Morana,James Morricone,Stephen Moscatello,Christopher Moser,Ariella Mossey,Josh Mowery,Chuck Muldoon,Peter Munda,Robert Reed Murphy,Kevin D. Murray,Chris Naples,Ruben Navarro,Krenar Ndreu,David Negri,Kevin Nelson,Arielle Nickerson,Ashley North,Joseph Oliveira,And Palladino,Loukas Papas,Rosario Parisi,Anthony Pasqua,Joe Penczak,Raffaello Perfetto,Katrina E. Perkins,Rich Petrillo,Sharon Pfeiffer,Leroy Phillips Jr.,Adam Piacente,Kinga Piersiak,Franco Porporino,Bill Porter,Vinnie Potestivo,Sean Prasso,Peter Presta,Marc Prizov,Lorna Pruce,Franco Quartuccio,Peter Quinones,Philip Radiotes,Jamie Ragusa,Jon Douglas Rainey,DJ Renegade,Tom Rhoads,Jerry Riccardelli,Christopher D Richert,Sal Rinella,Vincent Riviezzo,Natasha Romanova,Shade Rupe,Andrea Ryan,Rock Ryan,Joseph Gerard Sabatino,Yana Samarska,Dario Saraceno,Sacco Sarkis,Adrienne Scalo,Mike Scerbo,Eric Schuster,Robert Sciglimpaglia,Jonathan Scinto,Maria Sciorillo,Peter Anthony Seay,Harry L. Seddon,Chelsea Sheets,Andrea Shiffman,Robert Shulman,John Signorile,Jack Silver,Marisa R. Silver,Kent Sladyk,Erika Smith,Nadia Sobehart,Johnny Speciale,Jai Stefan,Frank Stellato,Joe Stolzer,David Strauss,Mike Struck,Peter Sweet,Pearl Thomas,Jonathan Tierney,Tisha Tinsman,Robert Toms,Justin Triest,Vincent Tumeo,Sal Tumino,Rob Tunstall,Lynne Valley,Jessica VanOss,Joseph Velez,Giuseppe Virzi,Amory Walsh,Lilyana Weaver,Thomas D. Weaver,Bryan Webster,Anthony Welch,Jake Wells,David Wenzel,Kelly P. Williams,Geoff Wingham,Carole Wood,Renee Wood,McManus Woodend,Alonzo Wright,Evan Zebooker,Ian Zelbo,Leonard Zimmerman,Alex Ziwak\n"
     ]
    },
    {
     "name": "stdout",
     "output_type": "stream",
     "text": [
      "Joaquin Phoenix,Robert De Niro,Zazie Beetz,Frances Conroy,Brett Cullen,Shea Whigham,Bill Camp,Glenn Fleshler,Leigh Gill,Josh Pais,Rocco Luna,Marc Maron,Sondra James,Murphy Guyer,Douglas Hodge,Dante Pereira-Olson,Carrie Louise Putrello,Sharon Washington,Hannah Gross,Frank Wood,Brian Tyree Henry,April Grace,Mick Szal,Carl Lundstedt,Michael Benz,Ben Warheit,Gary Gulman,Sam Morril,Chris Redd,Mandela Bellamy,Demetrius Dotson II,Greer Barnes,Ray Iannicelli,Bryan Callen,Peter Benson,Vito Gerbino,Adam Quezada,Xavyer Ureña,Evan Rosado,Damian Emmanuel,Mike Troll,Jane Fergus,David Gibson,Tony D. Head,Jeff McCarthy,Kim Brockington,Troy Roberts,Lou Young,Michael-Scott Druckenmiller,Craig Austin,John Cenatiempo,Danny Schoch,Keith Buterbaugh,James Ciccone,Rich Campbell,Roger Squitero,Steven Elson,Graham Maby,John Alldred,Alonzo Wright,Jack Wilkins,Richard Baratta,Ariana Aftahi,Haley Lynn Rose Anderson,Chris Angerman,Marshall Axt,Michael Bascle,Elizabeth Bluhm,Alissa Bourne,Roger Brenner,Winslow Bright,Matt Bruzzio,Jamaal Burcher,Marko Caka,Al Cardone,Kadrolsha Ona Carole,Dj Nino Carta,John Cashin,Jason John Cicalese,Jim Cleary,Brendan Patrick Connor,Blaise Corrigan,Vincent Cucuzza,Gino D'Cafango,Aynsleigh Dann,Helen Darras,Alfredo David,Adam DeNully,Shamia Diaz,Brandon Essig,Mark Falvo,Isabella Ferreira,Phiona C Foster,Michael James Fry,Ryan Funigiello,Dennis Jay Funny,Jason Gadino,Alexandra Lopez Galan,Matthias Sebastiun Garry,Victor Gaspar,Brayson Goss,Robert Wayne Grondski,James P. Harkins,Dontae Hawkins,Joseph Hernandez,Ben Heyman,Matthew Holland,David Iacono,Terresa Jackson,Sean Kilkenny,Paul Kulis,Melanie Christine Leon-Soon,Michael Lepre,Bob Leszczak,Vlad Lopatin,Mark Lotito,Adrienne Lovette,Justin Mahalsky,Mary Kate Malat,Branden Marlowe,Scott Martin,Lana McLellan,Alexander Mercier,Loretta Anne Miller,Josh Mowery,Nathan Nauroth,Mick O'Rourke,Joe Ochman,Cj Pallister,Joey Pedras,David Valentino Penaga,Rich Petrillo,Annie Pisapia,Celeste Pisapía,Jon Douglas Rainey,Jivan Xander Ramesh,Tamiz U. Rezvi,Steven Rimdzius,Emmanuel Rodriguez,Ray Rosario,Shade Rupe,Edward Sass,Keith Schneider,Jesse Schratz,George Signoriello,Todd Smolar,Stephen Stanton,Jimmy Star,Frank Stellato,Thomas W. Stewart,Chuck Taber,Zak Takowsky,Justin Theroux,Vincent Tumeo,Frankie Verroca,Matthew Vincini,Gregory Vlachakis,Rick Voight,Frank Volpe,Jaidon Walls,Julia Weldon,Alex Xenos,Lauren Yaffe,Jaine Ye\n"
     ]
    },
    {
     "ename": "KeyboardInterrupt",
     "evalue": "",
     "output_type": "error",
     "traceback": [
      "\u001b[0;31m---------------------------------------------------------------------------\u001b[0m",
      "\u001b[0;31mKeyboardInterrupt\u001b[0m                         Traceback (most recent call last)",
      "\u001b[0;32m<ipython-input-14-14b6727252db>\u001b[0m in \u001b[0;36m<module>\u001b[0;34m\u001b[0m\n\u001b[1;32m    113\u001b[0m \u001b[0mactorsList\u001b[0m \u001b[0;34m=\u001b[0m \u001b[0mactorList\u001b[0m\u001b[0;34m(\u001b[0m\u001b[0murl\u001b[0m\u001b[0;34m)\u001b[0m\u001b[0;34m\u001b[0m\u001b[0;34m\u001b[0m\u001b[0m\n\u001b[1;32m    114\u001b[0m \u001b[0mmoviesList\u001b[0m \u001b[0;34m=\u001b[0m \u001b[0mmovieList\u001b[0m\u001b[0;34m(\u001b[0m\u001b[0mactorsList\u001b[0m\u001b[0;34m)\u001b[0m\u001b[0;34m\u001b[0m\u001b[0;34m\u001b[0m\u001b[0m\n\u001b[0;32m--> 115\u001b[0;31m \u001b[0mmovieInfo\u001b[0m\u001b[0;34m(\u001b[0m\u001b[0mmoviesList\u001b[0m\u001b[0;34m)\u001b[0m\u001b[0;34m\u001b[0m\u001b[0;34m\u001b[0m\u001b[0m\n\u001b[0m",
      "\u001b[0;32m<ipython-input-14-14b6727252db>\u001b[0m in \u001b[0;36mmovieInfo\u001b[0;34m(listUrl)\u001b[0m\n\u001b[1;32m     99\u001b[0m \u001b[0;34m\u001b[0m\u001b[0m\n\u001b[1;32m    100\u001b[0m         \u001b[0mcasts\u001b[0m \u001b[0;34m=\u001b[0m\u001b[0;34m\"\"\u001b[0m\u001b[0;34m\u001b[0m\u001b[0;34m\u001b[0m\u001b[0m\n\u001b[0;32m--> 101\u001b[0;31m         \u001b[0mresponse\u001b[0m \u001b[0;34m=\u001b[0m \u001b[0mrequests\u001b[0m\u001b[0;34m.\u001b[0m\u001b[0mget\u001b[0m\u001b[0;34m(\u001b[0m\u001b[0mlistUrl\u001b[0m\u001b[0;34m[\u001b[0m\u001b[0mlink\u001b[0m\u001b[0;34m]\u001b[0m\u001b[0;34m+\u001b[0m\u001b[0;34m\"fullcredits\"\u001b[0m\u001b[0;34m)\u001b[0m\u001b[0;34m\u001b[0m\u001b[0;34m\u001b[0m\u001b[0m\n\u001b[0m\u001b[1;32m    102\u001b[0m         \u001b[0mcastPage\u001b[0m \u001b[0;34m=\u001b[0m \u001b[0mBeautifulSoup\u001b[0m\u001b[0;34m(\u001b[0m\u001b[0mresponse\u001b[0m\u001b[0;34m.\u001b[0m\u001b[0mtext\u001b[0m\u001b[0;34m)\u001b[0m\u001b[0;34m\u001b[0m\u001b[0;34m\u001b[0m\u001b[0m\n\u001b[1;32m    103\u001b[0m         \u001b[0mcastList\u001b[0m \u001b[0;34m=\u001b[0m \u001b[0mcastPage\u001b[0m\u001b[0;34m.\u001b[0m\u001b[0mselect\u001b[0m\u001b[0;34m(\u001b[0m\u001b[0;34m\"table.cast_list tr td\"\u001b[0m\u001b[0;34m)\u001b[0m\u001b[0;34m\u001b[0m\u001b[0;34m\u001b[0m\u001b[0m\n",
      "\u001b[0;32m/Library/Frameworks/Python.framework/Versions/3.8/lib/python3.8/site-packages/requests/api.py\u001b[0m in \u001b[0;36mget\u001b[0;34m(url, params, **kwargs)\u001b[0m\n\u001b[1;32m     74\u001b[0m \u001b[0;34m\u001b[0m\u001b[0m\n\u001b[1;32m     75\u001b[0m     \u001b[0mkwargs\u001b[0m\u001b[0;34m.\u001b[0m\u001b[0msetdefault\u001b[0m\u001b[0;34m(\u001b[0m\u001b[0;34m'allow_redirects'\u001b[0m\u001b[0;34m,\u001b[0m \u001b[0;32mTrue\u001b[0m\u001b[0;34m)\u001b[0m\u001b[0;34m\u001b[0m\u001b[0;34m\u001b[0m\u001b[0m\n\u001b[0;32m---> 76\u001b[0;31m     \u001b[0;32mreturn\u001b[0m \u001b[0mrequest\u001b[0m\u001b[0;34m(\u001b[0m\u001b[0;34m'get'\u001b[0m\u001b[0;34m,\u001b[0m \u001b[0murl\u001b[0m\u001b[0;34m,\u001b[0m \u001b[0mparams\u001b[0m\u001b[0;34m=\u001b[0m\u001b[0mparams\u001b[0m\u001b[0;34m,\u001b[0m \u001b[0;34m**\u001b[0m\u001b[0mkwargs\u001b[0m\u001b[0;34m)\u001b[0m\u001b[0;34m\u001b[0m\u001b[0;34m\u001b[0m\u001b[0m\n\u001b[0m\u001b[1;32m     77\u001b[0m \u001b[0;34m\u001b[0m\u001b[0m\n\u001b[1;32m     78\u001b[0m \u001b[0;34m\u001b[0m\u001b[0m\n",
      "\u001b[0;32m/Library/Frameworks/Python.framework/Versions/3.8/lib/python3.8/site-packages/requests/api.py\u001b[0m in \u001b[0;36mrequest\u001b[0;34m(method, url, **kwargs)\u001b[0m\n\u001b[1;32m     59\u001b[0m     \u001b[0;31m# cases, and look like a memory leak in others.\u001b[0m\u001b[0;34m\u001b[0m\u001b[0;34m\u001b[0m\u001b[0;34m\u001b[0m\u001b[0m\n\u001b[1;32m     60\u001b[0m     \u001b[0;32mwith\u001b[0m \u001b[0msessions\u001b[0m\u001b[0;34m.\u001b[0m\u001b[0mSession\u001b[0m\u001b[0;34m(\u001b[0m\u001b[0;34m)\u001b[0m \u001b[0;32mas\u001b[0m \u001b[0msession\u001b[0m\u001b[0;34m:\u001b[0m\u001b[0;34m\u001b[0m\u001b[0;34m\u001b[0m\u001b[0m\n\u001b[0;32m---> 61\u001b[0;31m         \u001b[0;32mreturn\u001b[0m \u001b[0msession\u001b[0m\u001b[0;34m.\u001b[0m\u001b[0mrequest\u001b[0m\u001b[0;34m(\u001b[0m\u001b[0mmethod\u001b[0m\u001b[0;34m=\u001b[0m\u001b[0mmethod\u001b[0m\u001b[0;34m,\u001b[0m \u001b[0murl\u001b[0m\u001b[0;34m=\u001b[0m\u001b[0murl\u001b[0m\u001b[0;34m,\u001b[0m \u001b[0;34m**\u001b[0m\u001b[0mkwargs\u001b[0m\u001b[0;34m)\u001b[0m\u001b[0;34m\u001b[0m\u001b[0;34m\u001b[0m\u001b[0m\n\u001b[0m\u001b[1;32m     62\u001b[0m \u001b[0;34m\u001b[0m\u001b[0m\n\u001b[1;32m     63\u001b[0m \u001b[0;34m\u001b[0m\u001b[0m\n",
      "\u001b[0;32m/Library/Frameworks/Python.framework/Versions/3.8/lib/python3.8/site-packages/requests/sessions.py\u001b[0m in \u001b[0;36mrequest\u001b[0;34m(self, method, url, params, data, headers, cookies, files, auth, timeout, allow_redirects, proxies, hooks, stream, verify, cert, json)\u001b[0m\n\u001b[1;32m    540\u001b[0m         }\n\u001b[1;32m    541\u001b[0m         \u001b[0msend_kwargs\u001b[0m\u001b[0;34m.\u001b[0m\u001b[0mupdate\u001b[0m\u001b[0;34m(\u001b[0m\u001b[0msettings\u001b[0m\u001b[0;34m)\u001b[0m\u001b[0;34m\u001b[0m\u001b[0;34m\u001b[0m\u001b[0m\n\u001b[0;32m--> 542\u001b[0;31m         \u001b[0mresp\u001b[0m \u001b[0;34m=\u001b[0m \u001b[0mself\u001b[0m\u001b[0;34m.\u001b[0m\u001b[0msend\u001b[0m\u001b[0;34m(\u001b[0m\u001b[0mprep\u001b[0m\u001b[0;34m,\u001b[0m \u001b[0;34m**\u001b[0m\u001b[0msend_kwargs\u001b[0m\u001b[0;34m)\u001b[0m\u001b[0;34m\u001b[0m\u001b[0;34m\u001b[0m\u001b[0m\n\u001b[0m\u001b[1;32m    543\u001b[0m \u001b[0;34m\u001b[0m\u001b[0m\n\u001b[1;32m    544\u001b[0m         \u001b[0;32mreturn\u001b[0m \u001b[0mresp\u001b[0m\u001b[0;34m\u001b[0m\u001b[0;34m\u001b[0m\u001b[0m\n",
      "\u001b[0;32m/Library/Frameworks/Python.framework/Versions/3.8/lib/python3.8/site-packages/requests/sessions.py\u001b[0m in \u001b[0;36msend\u001b[0;34m(self, request, **kwargs)\u001b[0m\n\u001b[1;32m    653\u001b[0m \u001b[0;34m\u001b[0m\u001b[0m\n\u001b[1;32m    654\u001b[0m         \u001b[0;31m# Send the request\u001b[0m\u001b[0;34m\u001b[0m\u001b[0;34m\u001b[0m\u001b[0;34m\u001b[0m\u001b[0m\n\u001b[0;32m--> 655\u001b[0;31m         \u001b[0mr\u001b[0m \u001b[0;34m=\u001b[0m \u001b[0madapter\u001b[0m\u001b[0;34m.\u001b[0m\u001b[0msend\u001b[0m\u001b[0;34m(\u001b[0m\u001b[0mrequest\u001b[0m\u001b[0;34m,\u001b[0m \u001b[0;34m**\u001b[0m\u001b[0mkwargs\u001b[0m\u001b[0;34m)\u001b[0m\u001b[0;34m\u001b[0m\u001b[0;34m\u001b[0m\u001b[0m\n\u001b[0m\u001b[1;32m    656\u001b[0m \u001b[0;34m\u001b[0m\u001b[0m\n\u001b[1;32m    657\u001b[0m         \u001b[0;31m# Total elapsed time of the request (approximately)\u001b[0m\u001b[0;34m\u001b[0m\u001b[0;34m\u001b[0m\u001b[0;34m\u001b[0m\u001b[0m\n",
      "\u001b[0;32m/Library/Frameworks/Python.framework/Versions/3.8/lib/python3.8/site-packages/requests/adapters.py\u001b[0m in \u001b[0;36msend\u001b[0;34m(self, request, stream, timeout, verify, cert, proxies)\u001b[0m\n\u001b[1;32m    437\u001b[0m         \u001b[0;32mtry\u001b[0m\u001b[0;34m:\u001b[0m\u001b[0;34m\u001b[0m\u001b[0;34m\u001b[0m\u001b[0m\n\u001b[1;32m    438\u001b[0m             \u001b[0;32mif\u001b[0m \u001b[0;32mnot\u001b[0m \u001b[0mchunked\u001b[0m\u001b[0;34m:\u001b[0m\u001b[0;34m\u001b[0m\u001b[0;34m\u001b[0m\u001b[0m\n\u001b[0;32m--> 439\u001b[0;31m                 resp = conn.urlopen(\n\u001b[0m\u001b[1;32m    440\u001b[0m                     \u001b[0mmethod\u001b[0m\u001b[0;34m=\u001b[0m\u001b[0mrequest\u001b[0m\u001b[0;34m.\u001b[0m\u001b[0mmethod\u001b[0m\u001b[0;34m,\u001b[0m\u001b[0;34m\u001b[0m\u001b[0;34m\u001b[0m\u001b[0m\n\u001b[1;32m    441\u001b[0m                     \u001b[0murl\u001b[0m\u001b[0;34m=\u001b[0m\u001b[0murl\u001b[0m\u001b[0;34m,\u001b[0m\u001b[0;34m\u001b[0m\u001b[0;34m\u001b[0m\u001b[0m\n",
      "\u001b[0;32m/Library/Frameworks/Python.framework/Versions/3.8/lib/python3.8/site-packages/urllib3/connectionpool.py\u001b[0m in \u001b[0;36murlopen\u001b[0;34m(self, method, url, body, headers, retries, redirect, assert_same_host, timeout, pool_timeout, release_conn, chunked, body_pos, **response_kw)\u001b[0m\n\u001b[1;32m    697\u001b[0m \u001b[0;34m\u001b[0m\u001b[0m\n\u001b[1;32m    698\u001b[0m             \u001b[0;31m# Make the request on the httplib connection object.\u001b[0m\u001b[0;34m\u001b[0m\u001b[0;34m\u001b[0m\u001b[0;34m\u001b[0m\u001b[0m\n\u001b[0;32m--> 699\u001b[0;31m             httplib_response = self._make_request(\n\u001b[0m\u001b[1;32m    700\u001b[0m                 \u001b[0mconn\u001b[0m\u001b[0;34m,\u001b[0m\u001b[0;34m\u001b[0m\u001b[0;34m\u001b[0m\u001b[0m\n\u001b[1;32m    701\u001b[0m                 \u001b[0mmethod\u001b[0m\u001b[0;34m,\u001b[0m\u001b[0;34m\u001b[0m\u001b[0;34m\u001b[0m\u001b[0m\n",
      "\u001b[0;32m/Library/Frameworks/Python.framework/Versions/3.8/lib/python3.8/site-packages/urllib3/connectionpool.py\u001b[0m in \u001b[0;36m_make_request\u001b[0;34m(self, conn, method, url, timeout, chunked, **httplib_request_kw)\u001b[0m\n\u001b[1;32m    443\u001b[0m                     \u001b[0;31m# Python 3 (including for exceptions like SystemExit).\u001b[0m\u001b[0;34m\u001b[0m\u001b[0;34m\u001b[0m\u001b[0;34m\u001b[0m\u001b[0m\n\u001b[1;32m    444\u001b[0m                     \u001b[0;31m# Otherwise it looks like a bug in the code.\u001b[0m\u001b[0;34m\u001b[0m\u001b[0;34m\u001b[0m\u001b[0;34m\u001b[0m\u001b[0m\n\u001b[0;32m--> 445\u001b[0;31m                     \u001b[0msix\u001b[0m\u001b[0;34m.\u001b[0m\u001b[0mraise_from\u001b[0m\u001b[0;34m(\u001b[0m\u001b[0me\u001b[0m\u001b[0;34m,\u001b[0m \u001b[0;32mNone\u001b[0m\u001b[0;34m)\u001b[0m\u001b[0;34m\u001b[0m\u001b[0;34m\u001b[0m\u001b[0m\n\u001b[0m\u001b[1;32m    446\u001b[0m         \u001b[0;32mexcept\u001b[0m \u001b[0;34m(\u001b[0m\u001b[0mSocketTimeout\u001b[0m\u001b[0;34m,\u001b[0m \u001b[0mBaseSSLError\u001b[0m\u001b[0;34m,\u001b[0m \u001b[0mSocketError\u001b[0m\u001b[0;34m)\u001b[0m \u001b[0;32mas\u001b[0m \u001b[0me\u001b[0m\u001b[0;34m:\u001b[0m\u001b[0;34m\u001b[0m\u001b[0;34m\u001b[0m\u001b[0m\n\u001b[1;32m    447\u001b[0m             \u001b[0mself\u001b[0m\u001b[0;34m.\u001b[0m\u001b[0m_raise_timeout\u001b[0m\u001b[0;34m(\u001b[0m\u001b[0merr\u001b[0m\u001b[0;34m=\u001b[0m\u001b[0me\u001b[0m\u001b[0;34m,\u001b[0m \u001b[0murl\u001b[0m\u001b[0;34m=\u001b[0m\u001b[0murl\u001b[0m\u001b[0;34m,\u001b[0m \u001b[0mtimeout_value\u001b[0m\u001b[0;34m=\u001b[0m\u001b[0mread_timeout\u001b[0m\u001b[0;34m)\u001b[0m\u001b[0;34m\u001b[0m\u001b[0;34m\u001b[0m\u001b[0m\n",
      "\u001b[0;32m/Library/Frameworks/Python.framework/Versions/3.8/lib/python3.8/site-packages/urllib3/packages/six.py\u001b[0m in \u001b[0;36mraise_from\u001b[0;34m(value, from_value)\u001b[0m\n",
      "\u001b[0;32m/Library/Frameworks/Python.framework/Versions/3.8/lib/python3.8/site-packages/urllib3/connectionpool.py\u001b[0m in \u001b[0;36m_make_request\u001b[0;34m(self, conn, method, url, timeout, chunked, **httplib_request_kw)\u001b[0m\n\u001b[1;32m    438\u001b[0m                 \u001b[0;31m# Python 3\u001b[0m\u001b[0;34m\u001b[0m\u001b[0;34m\u001b[0m\u001b[0;34m\u001b[0m\u001b[0m\n\u001b[1;32m    439\u001b[0m                 \u001b[0;32mtry\u001b[0m\u001b[0;34m:\u001b[0m\u001b[0;34m\u001b[0m\u001b[0;34m\u001b[0m\u001b[0m\n\u001b[0;32m--> 440\u001b[0;31m                     \u001b[0mhttplib_response\u001b[0m \u001b[0;34m=\u001b[0m \u001b[0mconn\u001b[0m\u001b[0;34m.\u001b[0m\u001b[0mgetresponse\u001b[0m\u001b[0;34m(\u001b[0m\u001b[0;34m)\u001b[0m\u001b[0;34m\u001b[0m\u001b[0;34m\u001b[0m\u001b[0m\n\u001b[0m\u001b[1;32m    441\u001b[0m                 \u001b[0;32mexcept\u001b[0m \u001b[0mBaseException\u001b[0m \u001b[0;32mas\u001b[0m \u001b[0me\u001b[0m\u001b[0;34m:\u001b[0m\u001b[0;34m\u001b[0m\u001b[0;34m\u001b[0m\u001b[0m\n\u001b[1;32m    442\u001b[0m                     \u001b[0;31m# Remove the TypeError from the exception chain in\u001b[0m\u001b[0;34m\u001b[0m\u001b[0;34m\u001b[0m\u001b[0;34m\u001b[0m\u001b[0m\n",
      "\u001b[0;32m/Library/Frameworks/Python.framework/Versions/3.8/lib/python3.8/http/client.py\u001b[0m in \u001b[0;36mgetresponse\u001b[0;34m(self)\u001b[0m\n\u001b[1;32m   1320\u001b[0m         \u001b[0;32mtry\u001b[0m\u001b[0;34m:\u001b[0m\u001b[0;34m\u001b[0m\u001b[0;34m\u001b[0m\u001b[0m\n\u001b[1;32m   1321\u001b[0m             \u001b[0;32mtry\u001b[0m\u001b[0;34m:\u001b[0m\u001b[0;34m\u001b[0m\u001b[0;34m\u001b[0m\u001b[0m\n\u001b[0;32m-> 1322\u001b[0;31m                 \u001b[0mresponse\u001b[0m\u001b[0;34m.\u001b[0m\u001b[0mbegin\u001b[0m\u001b[0;34m(\u001b[0m\u001b[0;34m)\u001b[0m\u001b[0;34m\u001b[0m\u001b[0;34m\u001b[0m\u001b[0m\n\u001b[0m\u001b[1;32m   1323\u001b[0m             \u001b[0;32mexcept\u001b[0m \u001b[0mConnectionError\u001b[0m\u001b[0;34m:\u001b[0m\u001b[0;34m\u001b[0m\u001b[0;34m\u001b[0m\u001b[0m\n\u001b[1;32m   1324\u001b[0m                 \u001b[0mself\u001b[0m\u001b[0;34m.\u001b[0m\u001b[0mclose\u001b[0m\u001b[0;34m(\u001b[0m\u001b[0;34m)\u001b[0m\u001b[0;34m\u001b[0m\u001b[0;34m\u001b[0m\u001b[0m\n",
      "\u001b[0;32m/Library/Frameworks/Python.framework/Versions/3.8/lib/python3.8/http/client.py\u001b[0m in \u001b[0;36mbegin\u001b[0;34m(self)\u001b[0m\n\u001b[1;32m    301\u001b[0m         \u001b[0;31m# read until we get a non-100 response\u001b[0m\u001b[0;34m\u001b[0m\u001b[0;34m\u001b[0m\u001b[0;34m\u001b[0m\u001b[0m\n\u001b[1;32m    302\u001b[0m         \u001b[0;32mwhile\u001b[0m \u001b[0;32mTrue\u001b[0m\u001b[0;34m:\u001b[0m\u001b[0;34m\u001b[0m\u001b[0;34m\u001b[0m\u001b[0m\n\u001b[0;32m--> 303\u001b[0;31m             \u001b[0mversion\u001b[0m\u001b[0;34m,\u001b[0m \u001b[0mstatus\u001b[0m\u001b[0;34m,\u001b[0m \u001b[0mreason\u001b[0m \u001b[0;34m=\u001b[0m \u001b[0mself\u001b[0m\u001b[0;34m.\u001b[0m\u001b[0m_read_status\u001b[0m\u001b[0;34m(\u001b[0m\u001b[0;34m)\u001b[0m\u001b[0;34m\u001b[0m\u001b[0;34m\u001b[0m\u001b[0m\n\u001b[0m\u001b[1;32m    304\u001b[0m             \u001b[0;32mif\u001b[0m \u001b[0mstatus\u001b[0m \u001b[0;34m!=\u001b[0m \u001b[0mCONTINUE\u001b[0m\u001b[0;34m:\u001b[0m\u001b[0;34m\u001b[0m\u001b[0;34m\u001b[0m\u001b[0m\n\u001b[1;32m    305\u001b[0m                 \u001b[0;32mbreak\u001b[0m\u001b[0;34m\u001b[0m\u001b[0;34m\u001b[0m\u001b[0m\n",
      "\u001b[0;32m/Library/Frameworks/Python.framework/Versions/3.8/lib/python3.8/http/client.py\u001b[0m in \u001b[0;36m_read_status\u001b[0;34m(self)\u001b[0m\n\u001b[1;32m    262\u001b[0m \u001b[0;34m\u001b[0m\u001b[0m\n\u001b[1;32m    263\u001b[0m     \u001b[0;32mdef\u001b[0m \u001b[0m_read_status\u001b[0m\u001b[0;34m(\u001b[0m\u001b[0mself\u001b[0m\u001b[0;34m)\u001b[0m\u001b[0;34m:\u001b[0m\u001b[0;34m\u001b[0m\u001b[0;34m\u001b[0m\u001b[0m\n\u001b[0;32m--> 264\u001b[0;31m         \u001b[0mline\u001b[0m \u001b[0;34m=\u001b[0m \u001b[0mstr\u001b[0m\u001b[0;34m(\u001b[0m\u001b[0mself\u001b[0m\u001b[0;34m.\u001b[0m\u001b[0mfp\u001b[0m\u001b[0;34m.\u001b[0m\u001b[0mreadline\u001b[0m\u001b[0;34m(\u001b[0m\u001b[0m_MAXLINE\u001b[0m \u001b[0;34m+\u001b[0m \u001b[0;36m1\u001b[0m\u001b[0;34m)\u001b[0m\u001b[0;34m,\u001b[0m \u001b[0;34m\"iso-8859-1\"\u001b[0m\u001b[0;34m)\u001b[0m\u001b[0;34m\u001b[0m\u001b[0;34m\u001b[0m\u001b[0m\n\u001b[0m\u001b[1;32m    265\u001b[0m         \u001b[0;32mif\u001b[0m \u001b[0mlen\u001b[0m\u001b[0;34m(\u001b[0m\u001b[0mline\u001b[0m\u001b[0;34m)\u001b[0m \u001b[0;34m>\u001b[0m \u001b[0m_MAXLINE\u001b[0m\u001b[0;34m:\u001b[0m\u001b[0;34m\u001b[0m\u001b[0;34m\u001b[0m\u001b[0m\n\u001b[1;32m    266\u001b[0m             \u001b[0;32mraise\u001b[0m \u001b[0mLineTooLong\u001b[0m\u001b[0;34m(\u001b[0m\u001b[0;34m\"status line\"\u001b[0m\u001b[0;34m)\u001b[0m\u001b[0;34m\u001b[0m\u001b[0;34m\u001b[0m\u001b[0m\n",
      "\u001b[0;32m/Library/Frameworks/Python.framework/Versions/3.8/lib/python3.8/socket.py\u001b[0m in \u001b[0;36mreadinto\u001b[0;34m(self, b)\u001b[0m\n\u001b[1;32m    667\u001b[0m         \u001b[0;32mwhile\u001b[0m \u001b[0;32mTrue\u001b[0m\u001b[0;34m:\u001b[0m\u001b[0;34m\u001b[0m\u001b[0;34m\u001b[0m\u001b[0m\n\u001b[1;32m    668\u001b[0m             \u001b[0;32mtry\u001b[0m\u001b[0;34m:\u001b[0m\u001b[0;34m\u001b[0m\u001b[0;34m\u001b[0m\u001b[0m\n\u001b[0;32m--> 669\u001b[0;31m                 \u001b[0;32mreturn\u001b[0m \u001b[0mself\u001b[0m\u001b[0;34m.\u001b[0m\u001b[0m_sock\u001b[0m\u001b[0;34m.\u001b[0m\u001b[0mrecv_into\u001b[0m\u001b[0;34m(\u001b[0m\u001b[0mb\u001b[0m\u001b[0;34m)\u001b[0m\u001b[0;34m\u001b[0m\u001b[0;34m\u001b[0m\u001b[0m\n\u001b[0m\u001b[1;32m    670\u001b[0m             \u001b[0;32mexcept\u001b[0m \u001b[0mtimeout\u001b[0m\u001b[0;34m:\u001b[0m\u001b[0;34m\u001b[0m\u001b[0;34m\u001b[0m\u001b[0m\n\u001b[1;32m    671\u001b[0m                 \u001b[0mself\u001b[0m\u001b[0;34m.\u001b[0m\u001b[0m_timeout_occurred\u001b[0m \u001b[0;34m=\u001b[0m \u001b[0;32mTrue\u001b[0m\u001b[0;34m\u001b[0m\u001b[0;34m\u001b[0m\u001b[0m\n",
      "\u001b[0;32m/Library/Frameworks/Python.framework/Versions/3.8/lib/python3.8/ssl.py\u001b[0m in \u001b[0;36mrecv_into\u001b[0;34m(self, buffer, nbytes, flags)\u001b[0m\n\u001b[1;32m   1239\u001b[0m                   \u001b[0;34m\"non-zero flags not allowed in calls to recv_into() on %s\"\u001b[0m \u001b[0;34m%\u001b[0m\u001b[0;34m\u001b[0m\u001b[0;34m\u001b[0m\u001b[0m\n\u001b[1;32m   1240\u001b[0m                   self.__class__)\n\u001b[0;32m-> 1241\u001b[0;31m             \u001b[0;32mreturn\u001b[0m \u001b[0mself\u001b[0m\u001b[0;34m.\u001b[0m\u001b[0mread\u001b[0m\u001b[0;34m(\u001b[0m\u001b[0mnbytes\u001b[0m\u001b[0;34m,\u001b[0m \u001b[0mbuffer\u001b[0m\u001b[0;34m)\u001b[0m\u001b[0;34m\u001b[0m\u001b[0;34m\u001b[0m\u001b[0m\n\u001b[0m\u001b[1;32m   1242\u001b[0m         \u001b[0;32melse\u001b[0m\u001b[0;34m:\u001b[0m\u001b[0;34m\u001b[0m\u001b[0;34m\u001b[0m\u001b[0m\n\u001b[1;32m   1243\u001b[0m             \u001b[0;32mreturn\u001b[0m \u001b[0msuper\u001b[0m\u001b[0;34m(\u001b[0m\u001b[0;34m)\u001b[0m\u001b[0;34m.\u001b[0m\u001b[0mrecv_into\u001b[0m\u001b[0;34m(\u001b[0m\u001b[0mbuffer\u001b[0m\u001b[0;34m,\u001b[0m \u001b[0mnbytes\u001b[0m\u001b[0;34m,\u001b[0m \u001b[0mflags\u001b[0m\u001b[0;34m)\u001b[0m\u001b[0;34m\u001b[0m\u001b[0;34m\u001b[0m\u001b[0m\n",
      "\u001b[0;32m/Library/Frameworks/Python.framework/Versions/3.8/lib/python3.8/ssl.py\u001b[0m in \u001b[0;36mread\u001b[0;34m(self, len, buffer)\u001b[0m\n\u001b[1;32m   1097\u001b[0m         \u001b[0;32mtry\u001b[0m\u001b[0;34m:\u001b[0m\u001b[0;34m\u001b[0m\u001b[0;34m\u001b[0m\u001b[0m\n\u001b[1;32m   1098\u001b[0m             \u001b[0;32mif\u001b[0m \u001b[0mbuffer\u001b[0m \u001b[0;32mis\u001b[0m \u001b[0;32mnot\u001b[0m \u001b[0;32mNone\u001b[0m\u001b[0;34m:\u001b[0m\u001b[0;34m\u001b[0m\u001b[0;34m\u001b[0m\u001b[0m\n\u001b[0;32m-> 1099\u001b[0;31m                 \u001b[0;32mreturn\u001b[0m \u001b[0mself\u001b[0m\u001b[0;34m.\u001b[0m\u001b[0m_sslobj\u001b[0m\u001b[0;34m.\u001b[0m\u001b[0mread\u001b[0m\u001b[0;34m(\u001b[0m\u001b[0mlen\u001b[0m\u001b[0;34m,\u001b[0m \u001b[0mbuffer\u001b[0m\u001b[0;34m)\u001b[0m\u001b[0;34m\u001b[0m\u001b[0;34m\u001b[0m\u001b[0m\n\u001b[0m\u001b[1;32m   1100\u001b[0m             \u001b[0;32melse\u001b[0m\u001b[0;34m:\u001b[0m\u001b[0;34m\u001b[0m\u001b[0;34m\u001b[0m\u001b[0m\n\u001b[1;32m   1101\u001b[0m                 \u001b[0;32mreturn\u001b[0m \u001b[0mself\u001b[0m\u001b[0;34m.\u001b[0m\u001b[0m_sslobj\u001b[0m\u001b[0;34m.\u001b[0m\u001b[0mread\u001b[0m\u001b[0;34m(\u001b[0m\u001b[0mlen\u001b[0m\u001b[0;34m)\u001b[0m\u001b[0;34m\u001b[0m\u001b[0;34m\u001b[0m\u001b[0m\n",
      "\u001b[0;31mKeyboardInterrupt\u001b[0m: "
     ]
    }
   ],
   "source": [
    "import requests\n",
    "from bs4 import BeautifulSoup\n",
    "\n",
    "def actorList(url):\n",
    "    response = requests.get(url)\n",
    "    soup = BeautifulSoup(response.text)\n",
    "\n",
    "    actors = soup.select(\"h3.lister-item-header a\") \n",
    "    \n",
    "    links = []\n",
    "    for actor in range(0, len(actors)):\n",
    "        link = \"https://www.imdb.com\"+ actors[actor].get('href')\n",
    "        links.append(link)\n",
    "        \n",
    "    return links\n",
    "    \n",
    "def movieList(listUrl):\n",
    "    \n",
    "    links = []\n",
    "    for link in range(0,len(listUrl)):\n",
    "        \n",
    "        response = requests.get(listUrl[link])\n",
    "        soup = BeautifulSoup(response.text)\n",
    "        \n",
    "        movies = soup.select('div.filmo-row b a')\n",
    "        \n",
    "        for movie in range(0,len(movies)):\n",
    "            info = \"https://www.imdb.com\"+ movies[movie].get('href')\n",
    "            links.append(info)\n",
    "       \n",
    "    return links\n",
    "\n",
    "\n",
    "def movieInfo(listUrl):\n",
    "    \n",
    "    name,country,budget,benefice,time,director,writer = \"None\",\"None\",\"None\",\"None\",\"None\",\"None\",\"None\"\n",
    "    casts =\"\"\n",
    "    movies = []\n",
    "    for link in range(0,len(listUrl)):\n",
    "        \n",
    "        response = requests.get(listUrl[link])\n",
    "        soup = BeautifulSoup(response.text)\n",
    "        \n",
    "        containName = soup.find(\"div\",{'class':'titleBar'}).find(\"h1\")\n",
    "        name = containName.contents[0]\n",
    "        \n",
    "        containDate = soup.find(\"div\",{'class':'titleBar'}).find(\"h1\").find(\"a\")\n",
    "        if containDate != None:\n",
    "            date = containDate.contents[0]\n",
    "        else:\n",
    "            date = \"\"\n",
    "        \n",
    "        infos = soup.select('div.txt-block')\n",
    "        for info in range(0,len(infos)):\n",
    "            if infos[info].h4 != None :\n",
    "                if infos[info].h4.contents[0] == \"Country:\":\n",
    "                    country = infos[info].a.contents[0]\n",
    "                    \n",
    "                if infos[info].h4.contents[0] == \"Budget:\":\n",
    "                    containBudget = infos[info].text\n",
    "                    containBudget = containBudget[9:]\n",
    "                    splitBudget = containBudget.split(\"\\n\", 1)\n",
    "                    budget = splitBudget[0]\n",
    "                    \n",
    "                if infos[info].h4.contents[0] == \"Cumulative Worldwide Gross:\":\n",
    "                    containBenefice = infos[info].text\n",
    "                    benefice = containBenefice[30:]\n",
    "                    \n",
    "                if infos[info].h4.contents[0] == \"Runtime:\":\n",
    "                    containTime = infos[info].time.text\n",
    "                    splitTime = containTime.split(\" \", 1)\n",
    "                    time = splitTime[0]\n",
    "\n",
    "\n",
    "        directorPage = \"fullcredits#directors/\" \n",
    "        writerPage = \"fullcredits#writers/\"\n",
    "       \n",
    "        sectionCredit = soup.find_all('h4', 'inline')\n",
    "     \n",
    "        if (sectionCredit != None):\n",
    "            for section in sectionCredit:\n",
    "                \n",
    "                if (section.text == 'Director:')|(section.text == 'Directors:'):\n",
    "                    sectionParent = section.parent\n",
    "                    sectionParent = sectionParent.find_all('a')  \n",
    "                    \n",
    "                    if sectionParent[len(sectionParent)-1].get('href') == directorPage:\n",
    "                        sectionParent.pop(len(sectionParent)-1)\n",
    "                        \n",
    "                    director = \",\".join([i.text for i in sectionParent])\n",
    "            \n",
    "                if (section.text == 'Writer:')|(section.text == 'Writers:'):\n",
    "                    sectionParent = section.parent\n",
    "                    sectionParent = sectionParent.find_all('a')\n",
    "                \n",
    "                    if sectionParent[len(sectionParent)-1].get('href') == writerPage:\n",
    "                        sectionParent.pop(len(sectionParent)-1)\n",
    "                       \n",
    "                    writer = \",\".join([i.text for i in sectionParent])\n",
    "                \n",
    "        response = requests.get(listUrl[link]+\"fullcredits\")\n",
    "        castPage = BeautifulSoup(response.text)    \n",
    "        castList = castPage.select(\"table.cast_list tr td\")\n",
    "        \n",
    "        for cast in castList:\n",
    "            if cast.get(\"class\") is None:\n",
    "                casts = casts + cast.text.replace(\"\\n\",\"\").strip() + ','\n",
    "        casts = casts[:-1]\n",
    "        \n",
    "        print(casts)\n",
    "url = input(\"Donne moi l'url de la liste: \")\n",
    "\n",
    "actorsList = actorList(url)\n",
    "moviesList = movieList(actorsList)\n",
    "movieInfo(moviesList) \n"
   ]
  },
  {
   "cell_type": "code",
   "execution_count": null,
   "id": "bizarre-kruger",
   "metadata": {
    "scrolled": true
   },
   "outputs": [],
   "source": []
  },
  {
   "cell_type": "code",
   "execution_count": null,
   "id": "practical-recycling",
   "metadata": {},
   "outputs": [],
   "source": [
    "id_list = input(\"Donne moi l'id de la liste\");\n",
    "print(id_list)"
   ]
  },
  {
   "cell_type": "code",
   "execution_count": null,
   "id": "later-cross",
   "metadata": {},
   "outputs": [],
   "source": []
  },
  {
   "cell_type": "code",
   "execution_count": null,
   "id": "vertical-strike",
   "metadata": {},
   "outputs": [],
   "source": []
  }
 ],
 "metadata": {
  "kernelspec": {
   "display_name": "Python 3",
   "language": "python",
   "name": "python3"
  },
  "language_info": {
   "codemirror_mode": {
    "name": "ipython",
    "version": 3
   },
   "file_extension": ".py",
   "mimetype": "text/x-python",
   "name": "python",
   "nbconvert_exporter": "python",
   "pygments_lexer": "ipython3",
   "version": "3.8.2"
  }
 },
 "nbformat": 4,
 "nbformat_minor": 5
}
