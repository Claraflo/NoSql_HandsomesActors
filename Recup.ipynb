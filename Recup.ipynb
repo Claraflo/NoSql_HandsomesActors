{
 "cells": [
  {
   "cell_type": "code",
   "execution_count": 1,
   "id": "indoor-reliance",
   "metadata": {},
   "outputs": [
    {
     "name": "stdout",
     "output_type": "stream",
     "text": [
      "Requirement already satisfied: pymongo in /Library/Frameworks/Python.framework/Versions/3.8/lib/python3.8/site-packages (3.11.3)\r\n"
     ]
    }
   ],
   "source": [
    "https://www.imdb.com/list/ls062161771/split_string = a_string.split(\"-\", 1)\n",
    "!pip install pymongo"
   ]
  },
  {
   "cell_type": "code",
   "execution_count": 2,
   "id": "signed-fight",
   "metadata": {},
   "outputs": [],
   "source": [
    "from pymongo import MongoClient\n",
    "myclient = MongoClient(\"mongodb://localhost:27017/\")\n",
    "mydb = myclient[\"database\"]"
   ]
  },
  {
   "cell_type": "code",
   "execution_count": null,
   "id": "creative-purple",
   "metadata": {},
   "outputs": [],
   "source": []
  },
  {
   "cell_type": "code",
   "execution_count": null,
   "id": "exceptional-tuning",
   "metadata": {
    "scrolled": true
   },
   "outputs": [
    {
     "name": "stdout",
     "output_type": "stream",
     "text": [
      "Donne moi l'url de la liste: https://www.imdb.com/list/ls062161771/\n"
     ]
    }
   ],
   "source": [
    "import requests\n",
    "from bs4 import BeautifulSoup\n",
    "\n",
    "def actorList(url):\n",
    "    response = requests.get(url)\n",
    "    soup = BeautifulSoup(response.text)\n",
    "\n",
    "    actors = soup.select(\"h3.lister-item-header a\") \n",
    "    \n",
    "    links = []\n",
    "    for actor in range(0, len(actors)):\n",
    "        link = \"https://www.imdb.com\"+ actors[actor].get('href')\n",
    "        links.append(link)\n",
    "        \n",
    "    return links\n",
    "    \n",
    "def movieList(listUrl):\n",
    "    \n",
    "    links = []\n",
    "    for link in range(0,len(listUrl)):\n",
    "        \n",
    "        response = requests.get(listUrl[link])\n",
    "        soup = BeautifulSoup(response.text)\n",
    "        \n",
    "        movies = soup.select('div.filmo-row b a')\n",
    "        \n",
    "        for movie in range(0,len(movies)):\n",
    "            info = \"https://www.imdb.com\"+ movies[movie].get('href')\n",
    "            links.append(info)\n",
    "       \n",
    "    return links\n",
    "\n",
    "\n",
    "def movieInfo(listUrl):\n",
    "    \n",
    "    name,country,budget,benefice,time = \"\",\"\",\"\",\"\",\"\"\n",
    "    movies = []\n",
    "    for link in range(0,len(listUrl)):\n",
    "        \n",
    "        response = requests.get(listUrl[link])\n",
    "        soup = BeautifulSoup(response.text)\n",
    "        \n",
    "        containName = soup.find(\"div\",{'class':'titleBar'}).find(\"h1\")\n",
    "        name = containName.contents[0]\n",
    "        \n",
    "        containDate = soup.find(\"div\",{'class':'titleBar'}).find(\"h1\").find(\"a\")\n",
    "        if containDate != None:\n",
    "            date = containDate.contents[0]\n",
    "        else:\n",
    "            date = \"\"\n",
    "        \n",
    "        infos = soup.select('div.txt-block')\n",
    "        for info in range(0,len(infos)):\n",
    "            if infos[info].h4 != None :\n",
    "                if infos[info].h4.contents[0] == \"Country:\":\n",
    "                    country = infos[info].a.contents[0]\n",
    "                    \n",
    "                if infos[info].h4.contents[0] == \"Budget:\":\n",
    "                    containBudget = infos[info].text\n",
    "                    containBudget = containBudget[9:]\n",
    "                    splitBudget = containBudget.split(\"\\n\", 1)\n",
    "                    budget = splitBudget[0]\n",
    "                    \n",
    "                if infos[info].h4.contents[0] == \"Cumulative Worldwide Gross:\":\n",
    "                    containBenefice = infos[info].text\n",
    "                    benefice = containBenefice[30:]\n",
    "                    \n",
    "                if infos[info].h4.contents[0] == \"Runtime:\":\n",
    "                    containTime = infos[info].time.text\n",
    "                    splitTime = containTime.split(\" \", 1)\n",
    "                    time = splitTime[0]\n",
    "\n",
    "        print(name + \"-\"+date+\"-\"+country+\"-\"+budget+\"-\"+benefice+\"-\"+time)\n",
    "       \n",
    "        infos = soup.select('div.see-more')\n",
    "        ##for info in range(0,len(infos)):\n",
    "          ##  if infos[info].h4 != None :\n",
    "            ##    if infos[info].h4.contents[0] == \"Genres:\":\n",
    "                   ## print(infos[info].findAll('a',text=True))\n",
    "        \n",
    "url = input(\"Donne moi l'url de la liste: \")\n",
    "\n",
    "actorsList = actorList(url)\n",
    "moviesList = movieList(actorsList)\n",
    "movieInfo(moviesList) \n"
   ]
  },
  {
   "cell_type": "code",
   "execution_count": null,
   "id": "practical-recycling",
   "metadata": {},
   "outputs": [],
   "source": [
    "id_list = input(\"Donne moi l'id de la liste\");\n",
    "print(id_list)"
   ]
  },
  {
   "cell_type": "code",
   "execution_count": null,
   "id": "later-cross",
   "metadata": {},
   "outputs": [],
   "source": []
  },
  {
   "cell_type": "code",
   "execution_count": null,
   "id": "vertical-strike",
   "metadata": {},
   "outputs": [],
   "source": []
  }
 ],
 "metadata": {
  "kernelspec": {
   "display_name": "Python 3",
   "language": "python",
   "name": "python3"
  },
  "language_info": {
   "codemirror_mode": {
    "name": "ipython",
    "version": 3
   },
   "file_extension": ".py",
   "mimetype": "text/x-python",
   "name": "python",
   "nbconvert_exporter": "python",
   "pygments_lexer": "ipython3",
   "version": "3.8.2"
  }
 },
 "nbformat": 4,
 "nbformat_minor": 5
}
